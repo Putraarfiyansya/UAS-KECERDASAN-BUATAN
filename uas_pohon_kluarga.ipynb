{
  "nbformat": 4,
  "nbformat_minor": 0,
  "metadata": {
    "colab": {
      "provenance": [],
      "authorship_tag": "ABX9TyPYZSxxBK79vKKlQeY3SJJ1",
      "include_colab_link": true
    },
    "kernelspec": {
      "name": "python3",
      "display_name": "Python 3"
    },
    "language_info": {
      "name": "python"
    }
  },
  "cells": [
    {
      "cell_type": "markdown",
      "metadata": {
        "id": "view-in-github",
        "colab_type": "text"
      },
      "source": [
        "<a href=\"https://colab.research.google.com/github/Putraarfiyansya/UAS-KECERDASAN-BUATAN/blob/main/uas_pohon_kluarga.ipynb\" target=\"_parent\"><img src=\"https://colab.research.google.com/assets/colab-badge.svg\" alt=\"Open In Colab\"/></a>"
      ]
    },
    {
      "cell_type": "code",
      "execution_count": null,
      "metadata": {
        "id": "h5Cnz7uFfLXE"
      },
      "outputs": [],
      "source": [
        "import matplotlib.pyplot as plt\n",
        "import networkx as nx\n",
        "\n",
        "# Membuat graf kosong untuk pohon keluarga\n",
        "G = nx.DiGraph()\n",
        "\n",
        "# Menambahkan node ke dalam graf sesuai pohon keluarga\n",
        "nodes = {\n",
        "    \"Hadi\": (0, 4), \"Retno\": (2, 4),\n",
        "    \"Pratama\": (-2, 3), \"Desi\": (0, 3), \"Wahyu\": (2, 3),\n",
        "    \"Rina\": (4, 3), \"Ardi\": (6, 3),\n",
        "    \"Putra\": (-2, 2), \"Tari\": (0, 2), \"Nurul\": (1, 2),\n",
        "    \"Yanto\": (3, 2), \"Hamzah\": (5, 2),\n",
        "    \"Eka\": (4, 2), \"Mira\": (6, 2), \"Bastian\": (7, 2),\n",
        "    \"Wanda\": (-2, 1), \"Aji\": (1, 1), \"Gunawan\": (3, 1),\n",
        "    \"Anggun\": (5, 1), \"Boy\": (7, 1)\n",
        "}\n",
        "\n",
        "# Tambahkan node ke graf\n",
        "for name, pos in nodes.items():\n",
        "    G.add_node(name, pos=pos)\n",
        "\n",
        "# Menambahkan hubungan antar node (edges)\n",
        "edges = [\n",
        "    (\"Hadi\", \"Pratama\"), (\"Hadi\", \"Desi\"), (\"Hadi\", \"Wahyu\"), (\"Hadi\", \"Rina\"), (\"Hadi\", \"Ardi\"),\n",
        "    (\"Retno\", \"Pratama\"), (\"Retno\", \"Desi\"), (\"Retno\", \"Wahyu\"), (\"Retno\", \"Rina\"), (\"Retno\", \"Ardi\"),\n",
        "    (\"Pratama\", \"Putra\"), (\"Desi\", \"Tari\"), (\"Desi\", \"Nurul\"),\n",
        "    (\"Wahyu\", \"Yanto\"), (\"Rina\", \"Hamzah\"),\n",
        "    (\"Eka\", \"Anggun\"), (\"Mira\", \"Boy\"), (\"Ardi\", \"Bastian\"),\n",
        "    (\"Putra\", \"Wanda\"), (\"Nurul\", \"Aji\"), (\"Yanto\", \"Gunawan\")\n",
        "]\n",
        "\n",
        "# Tambahkan edges ke graf\n",
        "G.add_edges_from(edges)\n",
        "\n",
        "# Mendapatkan posisi node\n",
        "pos = nx.get_node_attributes(G, 'pos')\n",
        "\n",
        "# Menggambar graf\n",
        "plt.figure(figsize=(10, 8))\n",
        "nx.draw(G, pos, with_labels=True, node_size=3000, node_color=\"yellow\", font_size=10, font_weight=\"bold\")\n",
        "plt.title(\"Pohon Keluarga Sederhana\", fontsize=14)\n",
        "plt.show()"
      ]
    }
  ]
}